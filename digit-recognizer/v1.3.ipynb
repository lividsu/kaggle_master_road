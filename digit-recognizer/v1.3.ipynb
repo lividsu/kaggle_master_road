{
 "cells": [
  {
   "cell_type": "code",
   "execution_count": 1,
   "id": "3534af1f",
   "metadata": {},
   "outputs": [
    {
     "name": "stdout",
     "output_type": "stream",
     "text": [
      "Using device: cuda\n"
     ]
    }
   ],
   "source": [
    "import os\n",
    "import random\n",
    "import numpy as np\n",
    "import pandas as pd\n",
    "import matplotlib.pyplot as plt\n",
    "import torch\n",
    "import torch.nn as nn\n",
    "import torch.optim as optim\n",
    "from torch.utils.data import Dataset, DataLoader\n",
    "from torchvision import transforms\n",
    "from sklearn.model_selection import train_test_split\n",
    "from sklearn.metrics import confusion_matrix, accuracy_score\n",
    "\n",
    "# Reproducibility: fix random seeds\n",
    "seed = 42\n",
    "random.seed(seed)\n",
    "np.random.seed(seed)\n",
    "torch.manual_seed(seed)\n",
    "torch.cuda.manual_seed_all(seed)\n",
    "\n",
    "# Device configuration: use GPU if available\n",
    "device = torch.device(\"cuda\" if torch.cuda.is_available() else \"cpu\")\n",
    "print(f\"Using device: {device}\")"
   ]
  },
  {
   "cell_type": "code",
   "execution_count": 2,
   "id": "6907f15b",
   "metadata": {},
   "outputs": [],
   "source": [
    "DATA_PATH = \"../../kaggle_data/digit-recognizer/\"\n",
    "train_data = pd.read_csv(DATA_PATH+\"train.csv\")\n",
    "test_data = pd.read_csv(DATA_PATH+'test.csv')\n",
    "train_labels = train_data['label'].values\n",
    "train_images = train_data.drop('label', axis=1).values\n",
    "test_images = test_data.values"
   ]
  },
  {
   "cell_type": "code",
   "execution_count": 3,
   "id": "16eeadb5",
   "metadata": {},
   "outputs": [
    {
     "name": "stdout",
     "output_type": "stream",
     "text": [
      "Train images: (42000, 28, 28), Train labels: (42000,)\n",
      "Test images: (28000, 28, 28)\n"
     ]
    }
   ],
   "source": [
    "# Normalize pixel values\n",
    "\n",
    "train_images = train_images.astype(np.float32) / 255.0\n",
    "test_images = test_images.astype(np.float32) / 255.0\n",
    "\n",
    "train_images = train_images.reshape(-1, 28, 28)\n",
    "test_images = test_images.reshape(-1, 28, 28)\n",
    "\n",
    "print(f'Train images: {train_images.shape}, Train labels: {train_labels.shape}')\n",
    "print(f'Test images: {test_images.shape}')"
   ]
  },
  {
   "cell_type": "code",
   "execution_count": 4,
   "id": "1fa12b2e",
   "metadata": {},
   "outputs": [
    {
     "name": "stdout",
     "output_type": "stream",
     "text": [
      "Train split: (33600, 28, 28), Validation split: (8400, 28, 28)\n"
     ]
    }
   ],
   "source": [
    "X_train, X_val, y_train, y_val = train_test_split(\n",
    "    train_images, train_labels,\n",
    "    test_size=0.2,\n",
    "    stratify=train_labels,\n",
    "    random_state=seed,\n",
    ")\n",
    "print(f'Train split: {X_train.shape}, Validation split: {X_val.shape}')"
   ]
  },
  {
   "cell_type": "code",
   "execution_count": 5,
   "id": "2385dd92",
   "metadata": {},
   "outputs": [],
   "source": [
    "class MNISTDataset(Dataset):\n",
    "    def __init__(self, images, labels=None, transform=None):\n",
    "        self.images = images\n",
    "        self.labels = labels\n",
    "        self.transform = transform\n",
    "\n",
    "    def __len__(self):\n",
    "        return len(self.images)\n",
    "    \n",
    "    def __getitem__(self, idx):\n",
    "        img = self.images[idx]\n",
    "        img = transforms.ToPILImage()(img)\n",
    "        if self.transform:\n",
    "            img = self.transform(img)\n",
    "        if self.labels is not None:\n",
    "            return img, int(self.labels[idx])\n",
    "        else:\n",
    "            return img\n",
    "        \n",
    "train_transform = transforms.Compose([\n",
    "    transforms.RandomRotation(15),\n",
    "    transforms.ToTensor(),\n",
    "    transforms.Normalize((0.1307,), (0.3081,))\n",
    "])\n",
    "\n",
    "test_transform = transforms.Compose([\n",
    "    transforms.ToTensor(),\n",
    "    transforms.Normalize((0.1307,), (0.3081,))\n",
    "])\n",
    "\n",
    "train_dataset = MNISTDataset(X_train, y_train, transform=train_transform)\n",
    "val_dataset = MNISTDataset(X_val, y_val, transform=test_transform)\n",
    "test_dataset = MNISTDataset(test_images, labels=None, transform=test_transform)\n",
    "\n",
    "batch_size = 128\n",
    "train_loader = DataLoader(train_dataset, batch_size=batch_size, shuffle=True)\n",
    "val_loader = DataLoader(val_dataset, batch_size=batch_size, shuffle=False)\n",
    "test_loader = DataLoader(test_dataset, batch_size=batch_size, shuffle=False)"
   ]
  },
  {
   "cell_type": "code",
   "execution_count": 6,
   "id": "fc184429",
   "metadata": {},
   "outputs": [
    {
     "data": {
      "image/png": "[encoded data removed]",
      "text/plain": [
       "<Figure size 1000x200 with 5 Axes>"
      ]
     },
     "metadata": {},
     "output_type": "display_data"
    }
   ],
   "source": [
    "images, labels = next(iter(train_loader))\n",
    "fig, axes = plt.subplots(1,5, figsize=(10,2))\n",
    "for i in range(5):\n",
    "    ax = axes[i]\n",
    "    img = images[i].squeeze().numpy()\n",
    "    ax.imshow(img, cmap='gray')\n",
    "    ax.set_title(f'labels: {labels[i].item()}')\n",
    "    ax.axis('off')\n",
    "\n",
    "plt.show()"
   ]
  },
  {
   "cell_type": "code",
   "execution_count": 7,
   "id": "6443ec79",
   "metadata": {},
   "outputs": [
    {
     "name": "stdout",
     "output_type": "stream",
     "text": [
      "V1_3_CNN(\n",
      "  (features): Sequential(\n",
      "    (0): Conv2d(1, 64, kernel_size=(3, 3), stride=(1, 1), padding=(1, 1))\n",
      "    (1): ReLU(inplace=True)\n",
      "    (2): Conv2d(64, 64, kernel_size=(3, 3), stride=(1, 1), padding=(1, 1))\n",
      "    (3): ReLU(inplace=True)\n",
      "    (4): MaxPool2d(kernel_size=2, stride=2, padding=0, dilation=1, ceil_mode=False)\n",
      "    (5): BatchNorm2d(64, eps=1e-05, momentum=0.1, affine=True, track_running_stats=True)\n",
      "    (6): Conv2d(64, 128, kernel_size=(3, 3), stride=(1, 1), padding=(1, 1))\n",
      "    (7): ReLU(inplace=True)\n",
      "    (8): Conv2d(128, 128, kernel_size=(3, 3), stride=(1, 1), padding=(1, 1))\n",
      "    (9): ReLU(inplace=True)\n",
      "    (10): MaxPool2d(kernel_size=2, stride=2, padding=0, dilation=1, ceil_mode=False)\n",
      "    (11): Dropout(p=0.2, inplace=False)\n",
      "    (12): Conv2d(128, 256, kernel_size=(3, 3), stride=(1, 1), padding=(1, 1))\n",
      "    (13): ReLU(inplace=True)\n",
      "    (14): MaxPool2d(kernel_size=2, stride=2, padding=0, dilation=1, ceil_mode=False)\n",
      "  )\n",
      "  (classifier): Sequential(\n",
      "    (0): Linear(in_features=2304, out_features=2048, bias=True)\n",
      "    (1): ReLU(inplace=True)\n",
      "    (2): Linear(in_features=2048, out_features=10, bias=True)\n",
      "  )\n",
      ")\n"
     ]
    }
   ],
   "source": [
    "class V1_3_CNN(nn.Module):\n",
    "    def __init__(self):\n",
    "        super(V1_3_CNN, self).__init__()\n",
    "        self.features = nn.Sequential(\n",
    "            nn.Conv2d(1, 64, kernel_size=3, padding=1),\n",
    "            nn.ReLU(inplace=True),\n",
    "\n",
    "            nn.Conv2d(64, 64, kernel_size=3, padding=1),\n",
    "            nn.ReLU(inplace=True),\n",
    "            nn.MaxPool2d(2),\n",
    "            nn.BatchNorm2d(64),\n",
    "\n",
    "            nn.Conv2d(64, 128, kernel_size=3, padding=1),\n",
    "            nn.ReLU(inplace=True),\n",
    "\n",
    "            nn.Conv2d(128, 128, kernel_size=3, padding=1),\n",
    "            nn.ReLU(inplace=True),\n",
    "            nn.MaxPool2d(2),\n",
    "            nn.Dropout(p=0.2),\n",
    "\n",
    "            nn.Conv2d(128, 256, kernel_size=3, padding=1),\n",
    "            nn.ReLU(inplace=True),\n",
    "            nn.MaxPool2d(2),\n",
    "        )\n",
    "\n",
    "        self.classifier = nn.Sequential(\n",
    "            nn.Linear(256 * 3 * 3, 2048),\n",
    "            nn.ReLU(inplace=True),\n",
    "            nn.Linear(2048, 10)\n",
    "        )\n",
    "\n",
    "    def forward(self, x):\n",
    "        if x.dim() == 3:\n",
    "            x = x.unsqueeze(1)\n",
    "\n",
    "        x = self.features(x)\n",
    "        x = x.view(x.size(0), -1)\n",
    "        x = self.classifier(x)\n",
    "        return x\n",
    "    \n",
    "model = V1_3_CNN().to(device)\n",
    "print(model)"
   ]
  },
  {
   "cell_type": "code",
   "execution_count": 8,
   "id": "42f2e1ce",
   "metadata": {},
   "outputs": [
    {
     "name": "stdout",
     "output_type": "stream",
     "text": [
      "Epoch 1/10: Train Loss = 0.7030, Val Loss = 0.5544, Val Acc = 0.9892\n",
      "Epoch 2/10: Train Loss = 0.5537, Val Loss = 0.5458, Val Acc = 0.9929\n",
      "Epoch 3/10: Train Loss = 0.5407, Val Loss = 0.5368, Val Acc = 0.9919\n",
      "Epoch 4/10: Train Loss = 0.5327, Val Loss = 0.5254, Val Acc = 0.9940\n",
      "Epoch 5/10: Train Loss = 0.5284, Val Loss = 0.5356, Val Acc = 0.9924\n",
      "Epoch 6/10: Train Loss = 0.5273, Val Loss = 0.5266, Val Acc = 0.9944\n",
      "Epoch 7/10: Train Loss = 0.5219, Val Loss = 0.5301, Val Acc = 0.9935\n",
      "Epoch 8/10: Train Loss = 0.5209, Val Loss = 0.5205, Val Acc = 0.9955\n",
      "Epoch 9/10: Train Loss = 0.5202, Val Loss = 0.5226, Val Acc = 0.9944\n",
      "Epoch 10/10: Train Loss = 0.5176, Val Loss = 0.5202, Val Acc = 0.9954\n"
     ]
    }
   ],
   "source": [
    "criterion = nn.CrossEntropyLoss(label_smoothing=0.1)\n",
    "optimizer = optim.Adam(model.parameters(), lr=0.001)\n",
    "\n",
    "num_epochs = 10\n",
    "train_losses = []\n",
    "val_losses = []\n",
    "val_accuracies = []\n",
    "\n",
    "for epoch in range(1, num_epochs+1):\n",
    "    model.train()\n",
    "    running_loss = 0.0\n",
    "    for images, labels in train_loader:\n",
    "        images, labels = images.to(device), labels.to(device)\n",
    "        optimizer.zero_grad()\n",
    "        outputs = model(images)\n",
    "        loss = criterion(outputs, labels)\n",
    "        loss.backward()\n",
    "        torch.nn.utils.clip_grad_norm_(model.parameters(), max_norm=1.0)\n",
    "        optimizer.step()\n",
    "        running_loss += loss.item() * images.size(0)\n",
    "\n",
    "    epoch_loss = running_loss / len(train_loader.dataset)\n",
    "    train_losses.append(epoch_loss)\n",
    "\n",
    "    model.eval()\n",
    "    val_loss = 0.0\n",
    "    correct = 0\n",
    "    with torch.no_grad():\n",
    "        for images, labels in val_loader:\n",
    "            images, labels = images.to(device), labels.to(device)\n",
    "            outputs = model(images)\n",
    "            loss = criterion(outputs, labels)\n",
    "            val_loss += loss.item() * images.size(0)\n",
    "            preds = outputs.argmax(dim=1)\n",
    "            correct += (preds == labels).sum().item()\n",
    "\n",
    "    val_loss /= len(val_loader.dataset)\n",
    "    val_acc = correct / len(val_loader.dataset)\n",
    "    val_losses.append(val_loss)\n",
    "    val_accuracies.append(val_acc)\n",
    "\n",
    "    print(f'Epoch {epoch}/{num_epochs}: Train Loss = {epoch_loss:.4f}, Val Loss = {val_loss:.4f}, Val Acc = {val_acc:.4f}')\n",
    "\n"
   ]
  },
  {
   "cell_type": "code",
   "execution_count": 9,
   "id": "e2ad9249",
   "metadata": {},
   "outputs": [
    {
     "data": {
      "image/png": "[encoded data removed]",
      "text/plain": [
       "<Figure size 1200x400 with 2 Axes>"
      ]
     },
     "metadata": {},
     "output_type": "display_data"
    }
   ],
   "source": [
    "# Plot training and validation curves\n",
    "epochs = np.arange(1, num_epochs+1)\n",
    "plt.figure(figsize=(12,4))\n",
    "plt.subplot(1,2,1)\n",
    "plt.plot(epochs, train_losses, label='Train Loss')\n",
    "plt.plot(epochs, val_losses, label='Val Loss')\n",
    "plt.xlabel('Epoch'); plt.ylabel('Loss'); plt.legend()\n",
    "plt.title('Loss vs. Epoch')\n",
    "\n",
    "plt.subplot(1,2,2)\n",
    "plt.plot(epochs, val_accuracies, label='Val Accuracy')\n",
    "plt.xlabel('Epoch'); plt.ylabel('Accuracy')\n",
    "plt.ylim(0.0, 1.0); plt.legend()\n",
    "plt.title('Validation Accuracy')\n",
    "plt.show()"
   ]
  },
  {
   "cell_type": "code",
   "execution_count": 10,
   "id": "a671b9fa",
   "metadata": {},
   "outputs": [
    {
     "name": "stdout",
     "output_type": "stream",
     "text": [
      "Confusion matrix:\n",
      " [[825   0   0   0   0   0   2   0   0   0]\n",
      " [  0 935   0   1   0   0   0   1   0   0]\n",
      " [  0   0 830   0   0   0   1   3   0   1]\n",
      " [  1   0   0 865   0   1   0   1   1   1]\n",
      " [  0   1   0   0 809   0   0   0   0   4]\n",
      " [  0   0   0   1   0 754   2   0   1   1]\n",
      " [  0   0   0   0   1   0 826   0   0   0]\n",
      " [  0   2   0   1   1   0   0 875   0   1]\n",
      " [  0   0   0   0   0   0   1   0 808   4]\n",
      " [  1   0   0   0   1   0   0   1   1 834]]\n"
     ]
    }
   ],
   "source": [
    "model.eval()\n",
    "all_preds = []\n",
    "all_labels = []\n",
    "\n",
    "with torch.no_grad():\n",
    "    for images, labels in val_loader:\n",
    "        images, labels = images.to(device), labels.to(device)\n",
    "        outputs = model(images)\n",
    "        preds = outputs.argmax(dim=1)\n",
    "        all_preds.append(preds.cpu().numpy())\n",
    "        all_labels.append(labels.cpu().numpy())\n",
    "\n",
    "all_preds = np.concatenate(all_preds)\n",
    "all_labels = np.concatenate(all_labels)\n",
    "\n",
    "# Compute confusion matrix\n",
    "cm = confusion_matrix(all_labels, all_preds)\n",
    "print(\"Confusion matrix:\\n\", cm)"
   ]
  },
  {
   "cell_type": "code",
   "execution_count": 11,
   "id": "fb80e2ee",
   "metadata": {},
   "outputs": [
    {
     "name": "stdout",
     "output_type": "stream",
     "text": [
      "Per-class accuracy: [0.99758162 0.99786553 0.99401198 0.99425287 0.99385749 0.99341238\n",
      " 0.99879081 0.99431818 0.99384994 0.99522673]\n"
     ]
    }
   ],
   "source": [
    "# Normalize confusion matrix for visualization (optional)\n",
    "cm_norm = cm.astype(np.float32) / cm.sum(axis=1, keepdims=True)\n",
    "print(\"Per-class accuracy:\", np.diag(cm_norm))"
   ]
  },
  {
   "cell_type": "code",
   "execution_count": 12,
   "id": "a4e9e40a",
   "metadata": {},
   "outputs": [
    {
     "name": "stdout",
     "output_type": "stream",
     "text": [
      "   ImageId  Label\n",
      "0        1      2\n",
      "1        2      0\n",
      "2        3      9\n",
      "3        4      0\n",
      "4        5      3\n"
     ]
    }
   ],
   "source": [
    "model.eval()\n",
    "image_ids = []\n",
    "predictions = []\n",
    "\n",
    "with torch.no_grad():\n",
    "    for i, images in enumerate(test_loader):\n",
    "        images = images.to(device)\n",
    "        outputs = model(images)\n",
    "        preds = outputs.argmax(dim=1).cpu().numpy()\n",
    "        # Compute the corresponding ImageIds for this batch\n",
    "        start_id = i * batch_size + 1\n",
    "        for offset, pred in enumerate(preds):\n",
    "            image_ids.append(start_id + offset)\n",
    "            predictions.append(pred)\n",
    "\n",
    "submission_df = pd.DataFrame({'ImageId': image_ids, 'Label': predictions})\n",
    "submission_df.to_csv(\"submission.csv\", index=False)\n",
    "print(submission_df.head())"
   ]
  },
  {
   "cell_type": "code",
   "execution_count": null,
   "id": "381d1d79",
   "metadata": {},
   "outputs": [],
   "source": []
  }
 ],
 "metadata": {
  "kernelspec": {
   "display_name": "kaggle",
   "language": "python",
   "name": "python3"
  },
  "language_info": {
   "codemirror_mode": {
    "name": "ipython",
    "version": 3
   },
   "file_extension": ".py",
   "mimetype": "text/x-python",
   "name": "python",
   "nbconvert_exporter": "python",
   "pygments_lexer": "ipython3",
   "version": "3.10.18"
  }
 },
 "nbformat": 4,
 "nbformat_minor": 5
}
